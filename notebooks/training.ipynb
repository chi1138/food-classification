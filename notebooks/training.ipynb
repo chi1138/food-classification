{
 "cells": [
  {
   "cell_type": "code",
   "execution_count": 1,
   "id": "a72a3820-46bb-4e5e-9773-4f9296dedcd4",
   "metadata": {
    "tags": []
   },
   "outputs": [],
   "source": [
    "import torch\n",
    "import torch.nn as nn\n",
    "import torchvision.models as models\n",
    "from torchvision import transforms\n",
    "from torchvision.datasets import ImageFolder \n",
    "import torch.optim.lr_scheduler as lr_scheduler\n",
    "import torch.optim as optim\n",
    "import numpy as np\n",
    "from tqdm.auto import tqdm\n",
    "import matplotlib.pyplot as plt\n",
    "import copy\n",
    "from collections import OrderedDict "
   ]
  },
  {
   "cell_type": "code",
   "execution_count": 17,
   "id": "2a1f51ff-4f25-4e1e-9e0d-08277a109a11",
   "metadata": {
    "tags": []
   },
   "outputs": [
    {
     "name": "stdout",
     "output_type": "stream",
     "text": [
      "CUDA is available!  Training on GPU ...\n"
     ]
    }
   ],
   "source": [
    "# Check if CUDA is available\n",
    "use_cuda = torch.cuda.is_available()\n",
    "if not use_cuda:\n",
    "    print('CUDA is not available.  Training on CPU ...')\n",
    "else:\n",
    "    print('CUDA is available!  Training on GPU ...')"
   ]
  },
  {
   "cell_type": "code",
   "execution_count": 3,
   "id": "46fca756-e2a5-479f-854e-2b8cccb6246e",
   "metadata": {
    "tags": []
   },
   "outputs": [],
   "source": [
    "# Define transform and import dataset\n",
    "transforms1 = transforms.Compose([\n",
    "    transforms.Resize((256,256)),\n",
    "    transforms.CenterCrop((224,224)),\n",
    "    transforms.ToTensor(),\n",
    "    transforms.Normalize([0.485, 0.456, 0.406], [0.229, 0.224, 0.225])\n",
    "])\n",
    "\n",
    "transforms2 = transforms.Compose([\n",
    "    transforms.Resize((256,256)),\n",
    "    transforms.CenterCrop((224,224)),\n",
    "    transforms.ToTensor(),\n",
    "    transforms.Normalize([0.485, 0.456, 0.406], [0.229, 0.224, 0.225]),\n",
    "    transforms.RandomHorizontalFlip(p=0.5)\n",
    "])\n",
    "\n",
    "full_dataset = ImageFolder('./data/raw/Taiwanese-Food-101', transform=transforms1)\n",
    "\n",
    "# Define generator and set split size\n",
    "generator1 = torch.Generator().manual_seed(38)\n",
    "train_size = int(0.7 * len(full_dataset))\n",
    "test_size = val_size = (len(full_dataset) - train_size)//2\n",
    "\n",
    "# Split dataset to train, test, and validation\n",
    "train_dataset, test_dataset, val_dataset = torch.utils.data.random_split(full_dataset, [train_size, test_size, val_size], generator = generator1)\n",
    "\n",
    "train_dataset.dataset.transform = transforms2\n",
    "\n",
    "\"\"\"\n",
    "train_dataset = torch.load('../data/processed/Taiwanese-Food-101/train/train_dataset.pt')\n",
    "val_dataset = torch.load(\"../data/processed/Taiwanese-Food-101/val/val_dataset.pt\")\n",
    "test_dataset = torch.load(\"../data/processed/Taiwanese-Food-101/test/test_dataset.pt\")\n",
    "\"\"\""
   ]
  },
  {
   "cell_type": "code",
   "execution_count": 19,
   "id": "bf9e5b8a-9ae5-49ce-a8bc-78785ca70483",
   "metadata": {
    "tags": []
   },
   "outputs": [],
   "source": [
    "# Define hypterparameters\n",
    "batch_size = 64\n",
    "\n",
    "# Create data loaders\n",
    "train_loader = torch.utils.data.DataLoader(train_dataset, batch_size=batch_size, shuffle=True)\n",
    "valid_loader = torch.utils.data.DataLoader(val_dataset, batch_size=batch_size)\n",
    "test_loader = torch.utils.data.DataLoader(test_dataset, batch_size=batch_size)\n",
    "\n",
    "class_names = class_names = test_dataset.dataset.classes"
   ]
  },
  {
   "cell_type": "code",
   "execution_count": 20,
   "id": "ef312dab-bd69-4abe-8d5c-428ab6beec08",
   "metadata": {
    "tags": []
   },
   "outputs": [],
   "source": [
    "model = models.densenet161(weights = \"DEFAULT\")\n",
    "\n",
    "# Freeze the parameters of the pre-trained model to avoid updating them during training\n",
    "for param in model.parameters():\n",
    "    param.requires_grad = False\n",
    "    \n",
    "\n",
    "for param in list(model.features.denseblock4.parameters()) + list(model.features.denseblock3.parameters()):\n",
    "    param.requires_grad = True\n",
    "\n",
    "# Replace the classifier with your custom classifier\n",
    "model.classifier = nn.Sequential(OrderedDict([\n",
    "                          ('fc1', nn.Linear(2208, 500)),  # Adjusted input size to match DenseNet-161 output\n",
    "                          ('relu', nn.ReLU()),\n",
    "                          ('fc2', nn.Linear(500, 101)),  # Adjusted output size to match the number of classes (101 in this case)\n",
    "                          ('output', nn.LogSoftmax(dim=1))\n",
    "                          ]))"
   ]
  },
  {
   "cell_type": "code",
   "execution_count": 21,
   "id": "43de02ab-8dd2-46bc-91a0-a45bcb0d649f",
   "metadata": {
    "tags": []
   },
   "outputs": [],
   "source": [
    "def train_model(model, criterion, optimizer, train_loader, valid_loader, n_epochs, mininterval, patience):\n",
    "    train_losses = []\n",
    "    valid_losses = []\n",
    "    train_accuracies = []\n",
    "    valid_accuracies = []\n",
    "    no_improvement_count = 0\n",
    "    best_model = None\n",
    "    best_val_loss = float('inf')\n",
    "    \n",
    "    for epoch in range(1, n_epochs+1):\n",
    "        model.train()\n",
    "        train_loss = 0.0\n",
    "        train_correct = 0\n",
    "        train_total = 0\n",
    "        \n",
    "        \n",
    "        for batch_idx, (data, target) in enumerate(tqdm(train_loader, desc=f'Epoch {epoch} Training', mininterval = mininterval)):\n",
    "            if use_cuda:\n",
    "                data, target = data.cuda(), target.cuda()\n",
    "            \n",
    "            optimizer.zero_grad()\n",
    "            output = model(data)\n",
    "            loss = criterion(output, target)\n",
    "            loss.backward()\n",
    "            optimizer.step()\n",
    "            \n",
    "            train_loss += loss.item()\n",
    "            _, predicted = output.max(1)\n",
    "            train_total += target.size(0)\n",
    "            train_correct += predicted.eq(target).sum().item()\n",
    "            \n",
    "            if batch_idx % 150 == 0:\n",
    "                print(f'Batch {batch_idx}, Loss: {loss.item():.4f}, Acc: {100 * train_correct/train_total:.2f}%')\n",
    "        \n",
    "        train_loss = train_loss / len(train_loader)\n",
    "        train_accuracy = 100 * train_correct / train_total\n",
    "        train_losses.append(train_loss)\n",
    "        train_accuracies.append(train_accuracy)\n",
    "        \n",
    "        model.eval()\n",
    "        valid_loss = 0.0\n",
    "        valid_correct = 0\n",
    "        valid_total = 0\n",
    "        \n",
    "        with torch.no_grad():\n",
    "            for data, target in tqdm(valid_loader, desc=f'Epoch {epoch} Validation', mininterval=mininterval):\n",
    "                if use_cuda:\n",
    "                    data, target = data.cuda(), target.cuda()\n",
    "                \n",
    "                output = model(data)\n",
    "                loss = criterion(output, target)\n",
    "                valid_loss += loss.item()\n",
    "                \n",
    "                _, predicted = output.max(1)\n",
    "                valid_total += target.size(0)\n",
    "                valid_correct += predicted.eq(target).sum().item()\n",
    "        \n",
    "        valid_loss = valid_loss / len(valid_loader)\n",
    "        valid_accuracy = 100 * valid_correct / valid_total\n",
    "        valid_losses.append(valid_loss)\n",
    "        valid_accuracies.append(valid_accuracy)\n",
    "        \n",
    "        print(f'Epoch {epoch}')\n",
    "        print(f'Train Loss: {train_loss:.4f}, Train Acc: {train_accuracy:.2f}%')\n",
    "        print(f'Valid Loss: {valid_loss:.4f}, Valid Acc: {valid_accuracy:.2f}%')\n",
    "        \n",
    "        scheduler.step(valid_loss)\n",
    "        \n",
    "        # Early Stopping\n",
    "        if valid_loss < best_val_loss:\n",
    "            best_val_loss = valid_loss\n",
    "            best_model = copy.deepcopy(model)\n",
    "            patience_count = 0  # Reset counter if validation loss improves\n",
    "        else:\n",
    "            patience_count += 1  # Increment counter if no improvement\n",
    "\n",
    "        if patience_count >= patience:\n",
    "            print(f\"Early stopping at epoch {epoch}. No improvement in validation loss for {patience} epochs.\")\n",
    "            model = best_model  # Load the best model\n",
    "            break\n",
    "        \n",
    "    return model, train_losses, valid_losses, train_accuracies, valid_accuracies"
   ]
  },
  {
   "cell_type": "code",
   "execution_count": 22,
   "id": "a7cdfba5-fce2-495b-910c-0e82340fc3e5",
   "metadata": {
    "tags": []
   },
   "outputs": [],
   "source": [
    "n_epochs = 30\n",
    "patience = 4\n",
    "mininterval = 5\n",
    "LR = 0.0001\n",
    "\n",
    "criterion = nn.CrossEntropyLoss()\n",
    "optimizer1 = optim.Adam(model.parameters(), lr=LR)\n",
    "optimizer2 = torch.optim.AdamW(model.parameters(), lr=LR, weight_decay=1e-5)\n",
    "optimizer = optim.Adam(model.classifier.parameters(), lr=0.001, betas=[0.9, 0.999])\n",
    "scheduler = lr_scheduler.ReduceLROnPlateau(optimizer2, mode='min', factor=0.1, patience=1, verbose=True)"
   ]
  },
  {
   "cell_type": "code",
   "execution_count": null,
   "id": "b811cf5b-c920-4772-9bce-6019f75e2995",
   "metadata": {
    "tags": []
   },
   "outputs": [
    {
     "data": {
      "application/vnd.jupyter.widget-view+json": {
       "model_id": "cc38c2ae067e4b19bae43a40155838b2",
       "version_major": 2,
       "version_minor": 0
      },
      "text/plain": [
       "Epoch 1 Training:   0%|          | 0/221 [00:00<?, ?it/s]"
      ]
     },
     "metadata": {},
     "output_type": "display_data"
    },
    {
     "name": "stdout",
     "output_type": "stream",
     "text": [
      "Batch 0, Loss: 4.5982, Acc: 1.56%\n",
      "Batch 150, Loss: 1.6992, Acc: 41.23%\n"
     ]
    },
    {
     "data": {
      "application/vnd.jupyter.widget-view+json": {
       "model_id": "f62d640363fd433d95455652aaaf1934",
       "version_major": 2,
       "version_minor": 0
      },
      "text/plain": [
       "Epoch 1 Validation:   0%|          | 0/48 [00:00<?, ?it/s]"
      ]
     },
     "metadata": {},
     "output_type": "display_data"
    },
    {
     "name": "stdout",
     "output_type": "stream",
     "text": [
      "Epoch 1\n",
      "Train Loss: 2.5618, Train Acc: 51.55%\n",
      "Valid Loss: 0.8897, Valid Acc: 80.69%\n"
     ]
    },
    {
     "data": {
      "application/vnd.jupyter.widget-view+json": {
       "model_id": "bcd21c47f6a04c059a14ea6957683115",
       "version_major": 2,
       "version_minor": 0
      },
      "text/plain": [
       "Epoch 2 Training:   0%|          | 0/221 [00:00<?, ?it/s]"
      ]
     },
     "metadata": {},
     "output_type": "display_data"
    },
    {
     "name": "stdout",
     "output_type": "stream",
     "text": [
      "Batch 0, Loss: 0.9852, Acc: 79.69%\n",
      "Batch 150, Loss: 0.6016, Acc: 86.23%\n"
     ]
    },
    {
     "data": {
      "application/vnd.jupyter.widget-view+json": {
       "model_id": "5526a36b85094d5d8632510853906854",
       "version_major": 2,
       "version_minor": 0
      },
      "text/plain": [
       "Epoch 2 Validation:   0%|          | 0/48 [00:00<?, ?it/s]"
      ]
     },
     "metadata": {},
     "output_type": "display_data"
    },
    {
     "name": "stdout",
     "output_type": "stream",
     "text": [
      "Epoch 2\n",
      "Train Loss: 0.5937, Train Acc: 86.82%\n",
      "Valid Loss: 0.4922, Valid Acc: 87.66%\n"
     ]
    },
    {
     "data": {
      "application/vnd.jupyter.widget-view+json": {
       "model_id": "dfe2801051aa4cc5bed08cdbdfe75b70",
       "version_major": 2,
       "version_minor": 0
      },
      "text/plain": [
       "Epoch 3 Training:   0%|          | 0/221 [00:00<?, ?it/s]"
      ]
     },
     "metadata": {},
     "output_type": "display_data"
    },
    {
     "name": "stdout",
     "output_type": "stream",
     "text": [
      "Batch 0, Loss: 0.2522, Acc: 98.44%\n",
      "Batch 150, Loss: 0.1241, Acc: 95.37%\n"
     ]
    },
    {
     "data": {
      "application/vnd.jupyter.widget-view+json": {
       "model_id": "3a65cc8acfc243ce8d984131d705a10e",
       "version_major": 2,
       "version_minor": 0
      },
      "text/plain": [
       "Epoch 3 Validation:   0%|          | 0/48 [00:00<?, ?it/s]"
      ]
     },
     "metadata": {},
     "output_type": "display_data"
    },
    {
     "name": "stdout",
     "output_type": "stream",
     "text": [
      "Epoch 3\n",
      "Train Loss: 0.2258, Train Acc: 95.10%\n",
      "Valid Loss: 0.3821, Valid Acc: 89.41%\n"
     ]
    },
    {
     "data": {
      "application/vnd.jupyter.widget-view+json": {
       "model_id": "6f24c70ad1f24a0886a77095c06f0ae8",
       "version_major": 2,
       "version_minor": 0
      },
      "text/plain": [
       "Epoch 4 Training:   0%|          | 0/221 [00:00<?, ?it/s]"
      ]
     },
     "metadata": {},
     "output_type": "display_data"
    },
    {
     "name": "stdout",
     "output_type": "stream",
     "text": [
      "Batch 0, Loss: 0.1386, Acc: 96.88%\n",
      "Batch 150, Loss: 0.0588, Acc: 98.22%\n"
     ]
    },
    {
     "data": {
      "application/vnd.jupyter.widget-view+json": {
       "model_id": "77915f8d58874986a10409908c393b26",
       "version_major": 2,
       "version_minor": 0
      },
      "text/plain": [
       "Epoch 4 Validation:   0%|          | 0/48 [00:00<?, ?it/s]"
      ]
     },
     "metadata": {},
     "output_type": "display_data"
    },
    {
     "name": "stdout",
     "output_type": "stream",
     "text": [
      "Epoch 4\n",
      "Train Loss: 0.0981, Train Acc: 98.04%\n",
      "Valid Loss: 0.3724, Valid Acc: 89.54%\n"
     ]
    },
    {
     "data": {
      "application/vnd.jupyter.widget-view+json": {
       "model_id": "8d95489fbc3844d681a29a1d323814a0",
       "version_major": 2,
       "version_minor": 0
      },
      "text/plain": [
       "Epoch 5 Training:   0%|          | 0/221 [00:00<?, ?it/s]"
      ]
     },
     "metadata": {},
     "output_type": "display_data"
    },
    {
     "name": "stdout",
     "output_type": "stream",
     "text": [
      "Batch 0, Loss: 0.0496, Acc: 100.00%\n",
      "Batch 150, Loss: 0.0263, Acc: 99.05%\n"
     ]
    },
    {
     "data": {
      "application/vnd.jupyter.widget-view+json": {
       "model_id": "149acaf8829440bca6c58437dc98615c",
       "version_major": 2,
       "version_minor": 0
      },
      "text/plain": [
       "Epoch 5 Validation:   0%|          | 0/48 [00:00<?, ?it/s]"
      ]
     },
     "metadata": {},
     "output_type": "display_data"
    },
    {
     "name": "stdout",
     "output_type": "stream",
     "text": [
      "Epoch 5\n",
      "Train Loss: 0.0554, Train Acc: 98.99%\n",
      "Valid Loss: 0.3404, Valid Acc: 90.66%\n"
     ]
    },
    {
     "data": {
      "application/vnd.jupyter.widget-view+json": {
       "model_id": "d038c414c4d649059e4d5686366665a5",
       "version_major": 2,
       "version_minor": 0
      },
      "text/plain": [
       "Epoch 6 Training:   0%|          | 0/221 [00:00<?, ?it/s]"
      ]
     },
     "metadata": {},
     "output_type": "display_data"
    },
    {
     "name": "stdout",
     "output_type": "stream",
     "text": [
      "Batch 0, Loss: 0.0726, Acc: 96.88%\n",
      "Batch 150, Loss: 0.0181, Acc: 99.46%\n"
     ]
    },
    {
     "data": {
      "application/vnd.jupyter.widget-view+json": {
       "model_id": "f70790eb59154fa1a983b10a4d5c1a84",
       "version_major": 2,
       "version_minor": 0
      },
      "text/plain": [
       "Epoch 6 Validation:   0%|          | 0/48 [00:00<?, ?it/s]"
      ]
     },
     "metadata": {},
     "output_type": "display_data"
    },
    {
     "name": "stdout",
     "output_type": "stream",
     "text": [
      "Epoch 6\n",
      "Train Loss: 0.0344, Train Acc: 99.43%\n",
      "Valid Loss: 0.3351, Valid Acc: 90.76%\n"
     ]
    },
    {
     "data": {
      "application/vnd.jupyter.widget-view+json": {
       "model_id": "c5da002dbec6455aa5e66cc2236389e0",
       "version_major": 2,
       "version_minor": 0
      },
      "text/plain": [
       "Epoch 7 Training:   0%|          | 0/221 [00:00<?, ?it/s]"
      ]
     },
     "metadata": {},
     "output_type": "display_data"
    },
    {
     "name": "stdout",
     "output_type": "stream",
     "text": [
      "Batch 0, Loss: 0.0118, Acc: 100.00%\n",
      "Batch 150, Loss: 0.0193, Acc: 99.72%\n"
     ]
    },
    {
     "data": {
      "application/vnd.jupyter.widget-view+json": {
       "model_id": "40264975551d47e2953e613c58090f59",
       "version_major": 2,
       "version_minor": 0
      },
      "text/plain": [
       "Epoch 7 Validation:   0%|          | 0/48 [00:00<?, ?it/s]"
      ]
     },
     "metadata": {},
     "output_type": "display_data"
    },
    {
     "name": "stdout",
     "output_type": "stream",
     "text": [
      "Epoch 7\n",
      "Train Loss: 0.0215, Train Acc: 99.70%\n",
      "Valid Loss: 0.3351, Valid Acc: 90.83%\n"
     ]
    },
    {
     "data": {
      "application/vnd.jupyter.widget-view+json": {
       "model_id": "f3a105777e9c49a5b8cb6f73cd553e50",
       "version_major": 2,
       "version_minor": 0
      },
      "text/plain": [
       "Epoch 8 Training:   0%|          | 0/221 [00:00<?, ?it/s]"
      ]
     },
     "metadata": {},
     "output_type": "display_data"
    },
    {
     "name": "stdout",
     "output_type": "stream",
     "text": [
      "Batch 0, Loss: 0.0145, Acc: 100.00%\n",
      "Batch 150, Loss: 0.0471, Acc: 99.71%\n"
     ]
    },
    {
     "data": {
      "application/vnd.jupyter.widget-view+json": {
       "model_id": "8dd5458f486c45bbbd50d4523a2a9019",
       "version_major": 2,
       "version_minor": 0
      },
      "text/plain": [
       "Epoch 8 Validation:   0%|          | 0/48 [00:00<?, ?it/s]"
      ]
     },
     "metadata": {},
     "output_type": "display_data"
    },
    {
     "name": "stdout",
     "output_type": "stream",
     "text": [
      "Epoch 8\n",
      "Train Loss: 0.0204, Train Acc: 99.65%\n",
      "Valid Loss: 0.3790, Valid Acc: 90.03%\n",
      "Epoch 00008: reducing learning rate of group 0 to 1.0000e-05.\n"
     ]
    },
    {
     "data": {
      "application/vnd.jupyter.widget-view+json": {
       "model_id": "4ba3889476b546bcad9c580b8dce23ec",
       "version_major": 2,
       "version_minor": 0
      },
      "text/plain": [
       "Epoch 9 Training:   0%|          | 0/221 [00:00<?, ?it/s]"
      ]
     },
     "metadata": {},
     "output_type": "display_data"
    },
    {
     "name": "stdout",
     "output_type": "stream",
     "text": [
      "Batch 0, Loss: 0.0116, Acc: 100.00%\n",
      "Batch 150, Loss: 0.0041, Acc: 99.74%\n"
     ]
    },
    {
     "data": {
      "application/vnd.jupyter.widget-view+json": {
       "model_id": "db190edbc53a4baab7c5dbdc47bb1cd9",
       "version_major": 2,
       "version_minor": 0
      },
      "text/plain": [
       "Epoch 9 Validation:   0%|          | 0/48 [00:00<?, ?it/s]"
      ]
     },
     "metadata": {},
     "output_type": "display_data"
    },
    {
     "name": "stdout",
     "output_type": "stream",
     "text": [
      "Epoch 9\n",
      "Train Loss: 0.0138, Train Acc: 99.82%\n",
      "Valid Loss: 0.3171, Valid Acc: 91.52%\n"
     ]
    },
    {
     "data": {
      "application/vnd.jupyter.widget-view+json": {
       "model_id": "99e05ba2741746edb7e1b5fd11b5a0d6",
       "version_major": 2,
       "version_minor": 0
      },
      "text/plain": [
       "Epoch 10 Training:   0%|          | 0/221 [00:00<?, ?it/s]"
      ]
     },
     "metadata": {},
     "output_type": "display_data"
    },
    {
     "name": "stdout",
     "output_type": "stream",
     "text": [
      "Batch 0, Loss: 0.0040, Acc: 100.00%\n",
      "Batch 150, Loss: 0.0143, Acc: 99.95%\n"
     ]
    },
    {
     "data": {
      "application/vnd.jupyter.widget-view+json": {
       "model_id": "6675dd12624749b7861675298f0d265f",
       "version_major": 2,
       "version_minor": 0
      },
      "text/plain": [
       "Epoch 10 Validation:   0%|          | 0/48 [00:00<?, ?it/s]"
      ]
     },
     "metadata": {},
     "output_type": "display_data"
    },
    {
     "name": "stdout",
     "output_type": "stream",
     "text": [
      "Epoch 10\n",
      "Train Loss: 0.0084, Train Acc: 99.94%\n",
      "Valid Loss: 0.3130, Valid Acc: 91.52%\n"
     ]
    },
    {
     "data": {
      "application/vnd.jupyter.widget-view+json": {
       "model_id": "e68e1a156bac42c8ae63bce6752e5bc2",
       "version_major": 2,
       "version_minor": 0
      },
      "text/plain": [
       "Epoch 11 Training:   0%|          | 0/221 [00:00<?, ?it/s]"
      ]
     },
     "metadata": {},
     "output_type": "display_data"
    },
    {
     "name": "stdout",
     "output_type": "stream",
     "text": [
      "Batch 0, Loss: 0.0034, Acc: 100.00%\n",
      "Batch 150, Loss: 0.0048, Acc: 99.96%\n"
     ]
    },
    {
     "data": {
      "application/vnd.jupyter.widget-view+json": {
       "model_id": "d0cee8ed966345eba4ca79176d7bbb1a",
       "version_major": 2,
       "version_minor": 0
      },
      "text/plain": [
       "Epoch 11 Validation:   0%|          | 0/48 [00:00<?, ?it/s]"
      ]
     },
     "metadata": {},
     "output_type": "display_data"
    },
    {
     "name": "stdout",
     "output_type": "stream",
     "text": [
      "Epoch 11\n",
      "Train Loss: 0.0069, Train Acc: 99.96%\n",
      "Valid Loss: 0.3142, Valid Acc: 91.65%\n"
     ]
    },
    {
     "data": {
      "application/vnd.jupyter.widget-view+json": {
       "model_id": "e50dd15ec5b34927b8876f917426e5d6",
       "version_major": 2,
       "version_minor": 0
      },
      "text/plain": [
       "Epoch 12 Training:   0%|          | 0/221 [00:00<?, ?it/s]"
      ]
     },
     "metadata": {},
     "output_type": "display_data"
    },
    {
     "name": "stdout",
     "output_type": "stream",
     "text": [
      "Batch 0, Loss: 0.0058, Acc: 100.00%\n",
      "Batch 150, Loss: 0.0094, Acc: 99.95%\n"
     ]
    },
    {
     "data": {
      "application/vnd.jupyter.widget-view+json": {
       "model_id": "055f7f8c16204a2781645c3acc5f8729",
       "version_major": 2,
       "version_minor": 0
      },
      "text/plain": [
       "Epoch 12 Validation:   0%|          | 0/48 [00:00<?, ?it/s]"
      ]
     },
     "metadata": {},
     "output_type": "display_data"
    },
    {
     "name": "stdout",
     "output_type": "stream",
     "text": [
      "Epoch 12\n",
      "Train Loss: 0.0055, Train Acc: 99.96%\n",
      "Valid Loss: 0.3121, Valid Acc: 91.75%\n"
     ]
    },
    {
     "data": {
      "application/vnd.jupyter.widget-view+json": {
       "model_id": "d3d7e29f22374ae1b1def044f0f734ef",
       "version_major": 2,
       "version_minor": 0
      },
      "text/plain": [
       "Epoch 13 Training:   0%|          | 0/221 [00:00<?, ?it/s]"
      ]
     },
     "metadata": {},
     "output_type": "display_data"
    },
    {
     "name": "stdout",
     "output_type": "stream",
     "text": [
      "Batch 0, Loss: 0.0027, Acc: 100.00%\n",
      "Batch 150, Loss: 0.0096, Acc: 99.99%\n"
     ]
    },
    {
     "data": {
      "application/vnd.jupyter.widget-view+json": {
       "model_id": "65acad39f9df41d6a3a58458bbc20af1",
       "version_major": 2,
       "version_minor": 0
      },
      "text/plain": [
       "Epoch 13 Validation:   0%|          | 0/48 [00:00<?, ?it/s]"
      ]
     },
     "metadata": {},
     "output_type": "display_data"
    },
    {
     "name": "stdout",
     "output_type": "stream",
     "text": [
      "Epoch 13\n",
      "Train Loss: 0.0049, Train Acc: 99.99%\n",
      "Valid Loss: 0.3018, Valid Acc: 91.82%\n"
     ]
    },
    {
     "data": {
      "application/vnd.jupyter.widget-view+json": {
       "model_id": "83d04e8b811b425d85808f87c3e03a2a",
       "version_major": 2,
       "version_minor": 0
      },
      "text/plain": [
       "Epoch 14 Training:   0%|          | 0/221 [00:00<?, ?it/s]"
      ]
     },
     "metadata": {},
     "output_type": "display_data"
    },
    {
     "name": "stdout",
     "output_type": "stream",
     "text": [
      "Batch 0, Loss: 0.0053, Acc: 100.00%\n",
      "Batch 150, Loss: 0.0028, Acc: 99.99%\n"
     ]
    },
    {
     "data": {
      "application/vnd.jupyter.widget-view+json": {
       "model_id": "98b2770418314f7597f91b9f97da6893",
       "version_major": 2,
       "version_minor": 0
      },
      "text/plain": [
       "Epoch 14 Validation:   0%|          | 0/48 [00:00<?, ?it/s]"
      ]
     },
     "metadata": {},
     "output_type": "display_data"
    },
    {
     "name": "stdout",
     "output_type": "stream",
     "text": [
      "Epoch 14\n",
      "Train Loss: 0.0044, Train Acc: 99.99%\n",
      "Valid Loss: 0.3074, Valid Acc: 91.91%\n"
     ]
    },
    {
     "data": {
      "application/vnd.jupyter.widget-view+json": {
       "model_id": "8485d6781d9a4b58854abc28ea2e0c1c",
       "version_major": 2,
       "version_minor": 0
      },
      "text/plain": [
       "Epoch 15 Training:   0%|          | 0/221 [00:00<?, ?it/s]"
      ]
     },
     "metadata": {},
     "output_type": "display_data"
    },
    {
     "name": "stdout",
     "output_type": "stream",
     "text": [
      "Batch 0, Loss: 0.0026, Acc: 100.00%\n",
      "Batch 150, Loss: 0.0019, Acc: 100.00%\n"
     ]
    },
    {
     "data": {
      "application/vnd.jupyter.widget-view+json": {
       "model_id": "7a44ed0b2d72476bb5ec638caa43c610",
       "version_major": 2,
       "version_minor": 0
      },
      "text/plain": [
       "Epoch 15 Validation:   0%|          | 0/48 [00:00<?, ?it/s]"
      ]
     },
     "metadata": {},
     "output_type": "display_data"
    },
    {
     "name": "stdout",
     "output_type": "stream",
     "text": [
      "Epoch 15\n",
      "Train Loss: 0.0039, Train Acc: 100.00%\n",
      "Valid Loss: 0.3047, Valid Acc: 92.05%\n",
      "Epoch 00015: reducing learning rate of group 0 to 1.0000e-06.\n"
     ]
    },
    {
     "data": {
      "application/vnd.jupyter.widget-view+json": {
       "model_id": "c598369a67a54163b24b314ee68077b4",
       "version_major": 2,
       "version_minor": 0
      },
      "text/plain": [
       "Epoch 16 Training:   0%|          | 0/221 [00:00<?, ?it/s]"
      ]
     },
     "metadata": {},
     "output_type": "display_data"
    },
    {
     "name": "stdout",
     "output_type": "stream",
     "text": [
      "Batch 0, Loss: 0.0026, Acc: 100.00%\n",
      "Batch 150, Loss: 0.0019, Acc: 99.97%\n"
     ]
    },
    {
     "data": {
      "application/vnd.jupyter.widget-view+json": {
       "model_id": "755a24005ad64f05b3e4460d25148899",
       "version_major": 2,
       "version_minor": 0
      },
      "text/plain": [
       "Epoch 16 Validation:   0%|          | 0/48 [00:00<?, ?it/s]"
      ]
     },
     "metadata": {},
     "output_type": "display_data"
    },
    {
     "name": "stdout",
     "output_type": "stream",
     "text": [
      "Epoch 16\n",
      "Train Loss: 0.0043, Train Acc: 99.97%\n",
      "Valid Loss: 0.3043, Valid Acc: 92.05%\n"
     ]
    },
    {
     "data": {
      "application/vnd.jupyter.widget-view+json": {
       "model_id": "f418dbc343a647929ac74bb73292fb08",
       "version_major": 2,
       "version_minor": 0
      },
      "text/plain": [
       "Epoch 17 Training:   0%|          | 0/221 [00:00<?, ?it/s]"
      ]
     },
     "metadata": {},
     "output_type": "display_data"
    },
    {
     "name": "stdout",
     "output_type": "stream",
     "text": [
      "Batch 0, Loss: 0.0026, Acc: 100.00%\n",
      "Batch 150, Loss: 0.0031, Acc: 99.94%\n"
     ]
    },
    {
     "data": {
      "application/vnd.jupyter.widget-view+json": {
       "model_id": "5732189e0c2b4355843dbb109bedfa0f",
       "version_major": 2,
       "version_minor": 0
      },
      "text/plain": [
       "Epoch 17 Validation:   0%|          | 0/48 [00:00<?, ?it/s]"
      ]
     },
     "metadata": {},
     "output_type": "display_data"
    },
    {
     "name": "stdout",
     "output_type": "stream",
     "text": [
      "Epoch 17\n",
      "Train Loss: 0.0040, Train Acc: 99.96%\n",
      "Valid Loss: 0.3047, Valid Acc: 91.85%\n",
      "Epoch 00017: reducing learning rate of group 0 to 1.0000e-07.\n",
      "Early stopping at epoch 17. No improvement in validation loss for 4 epochs.\n"
     ]
    }
   ],
   "source": [
    "if use_cuda:\n",
    "    model.cuda()\n",
    "\n",
    "model, train_losses, valid_losses, train_accuracies, valid_accuracies = train_model(\n",
    "    model=model,\n",
    "    criterion=criterion,\n",
    "    optimizer=optimizer2,\n",
    "    train_loader=train_loader,\n",
    "    valid_loader=valid_loader,\n",
    "    n_epochs=n_epochs,\n",
    "    mininterval=mininterval,\n",
    "    patience=patience\n",
    ")"
   ]
  },
  {
   "cell_type": "code",
   "execution_count": 24,
   "id": "0f728292-6f45-4a2a-9c62-8762126f0473",
   "metadata": {},
   "outputs": [
    {
     "data": {
      "image/png": "[encoded data removed]",
      "text/plain": [
       "<Figure size 1200x400 with 2 Axes>"
      ]
     },
     "metadata": {},
     "output_type": "display_data"
    }
   ],
   "source": [
    "# Ploting accuracy and loss\n",
    "f, (ax1, ax2) = plt.subplots(1, 2, figsize=(12, 4))\n",
    "t = f.suptitle('Performance', fontsize=12)\n",
    "f.subplots_adjust(top=0.85, wspace=0.3)\n",
    "\n",
    "train_acc = []\n",
    "val_acc = []\n",
    " \n",
    "for i in range(len(train_accuracies)):\n",
    "    train_acc.append(train_accuracies[i] * 0.01)\n",
    "    val_acc.append(valid_accuracies[i] * 0.01)\n",
    "\n",
    "    \n",
    "epoch_list = list(range(0, len(train_accuracies)))\n",
    "ax1.plot(epoch_list, train_acc, label='Train Accuracy')\n",
    "ax1.plot(epoch_list, val_acc, label='Validation Accuracy')\n",
    "ax1.set_xticks(np.arange(0, len(epoch_list)))\n",
    "ax1.set_ylabel('Accuracy Value')\n",
    "ax1.set_xlabel('Epoch')\n",
    "ax1.set_title('Accuracy')\n",
    "l1 = ax1.legend(loc=\"best\")\n",
    "    \n",
    "ax2.plot(epoch_list, train_losses, label='Train Loss')\n",
    "ax2.plot(epoch_list, valid_losses, label='Validation Loss')\n",
    "ax2.set_xticks(np.arange(0, len(epoch_list)))\n",
    "ax2.set_ylabel('Loss Value')\n",
    "ax2.set_xlabel('Epoch')\n",
    "ax2.set_title('Loss')\n",
    "l2 = ax2.legend(loc=\"best\")"
   ]
  },
  {
   "cell_type": "code",
   "execution_count": null,
   "id": "6256713f-f2ec-40cb-aad1-7ff9b0c10020",
   "metadata": {
    "tags": []
   },
   "outputs": [],
   "source": [
    "# torch.save(model.state_dict(), 'densenet161_unfreeze2_sch')"
   ]
  }
 ],
 "metadata": {
  "environment": {
   "kernel": "python310",
   "name": "common-cu121.m123",
   "type": "gcloud",
   "uri": "us-docker.pkg.dev/deeplearning-platform-release/gcr.io/base-cu121:m123"
  },
  "kernelspec": {
   "display_name": "python310",
   "language": "python",
   "name": "python3"
  },
  "language_info": {
   "codemirror_mode": {
    "name": "ipython",
    "version": 3
   },
   "file_extension": ".py",
   "mimetype": "text/x-python",
   "name": "python",
   "nbconvert_exporter": "python",
   "pygments_lexer": "ipython3",
   "version": "3.10.14"
  }
 },
 "nbformat": 4,
 "nbformat_minor": 5
}
